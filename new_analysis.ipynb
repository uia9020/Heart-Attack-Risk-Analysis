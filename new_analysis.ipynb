{
 "cells": [
  {
   "cell_type": "code",
   "execution_count": 2,
   "metadata": {},
   "outputs": [],
   "source": [
    "import pandas as pd\n",
    "import matplotlib.pyplot as plt\n",
    "import seaborn as sns\n",
    "\n"
   ]
  },
  {
   "cell_type": "code",
   "execution_count": 3,
   "metadata": {},
   "outputs": [],
   "source": [
    "df_train=pd.read_csv('train.csv',header=0)"
   ]
  },
  {
   "cell_type": "code",
   "execution_count": 4,
   "metadata": {},
   "outputs": [
    {
     "data": {
      "text/html": [
       "<div>\n",
       "<style scoped>\n",
       "    .dataframe tbody tr th:only-of-type {\n",
       "        vertical-align: middle;\n",
       "    }\n",
       "\n",
       "    .dataframe tbody tr th {\n",
       "        vertical-align: top;\n",
       "    }\n",
       "\n",
       "    .dataframe thead th {\n",
       "        text-align: right;\n",
       "    }\n",
       "</style>\n",
       "<table border=\"1\" class=\"dataframe\">\n",
       "  <thead>\n",
       "    <tr style=\"text-align: right;\">\n",
       "      <th></th>\n",
       "      <th>Patient ID</th>\n",
       "      <th>Age</th>\n",
       "      <th>Sex</th>\n",
       "      <th>Cholesterol</th>\n",
       "      <th>Blood Pressure</th>\n",
       "      <th>Heart Rate</th>\n",
       "      <th>Diabetes</th>\n",
       "      <th>Family History</th>\n",
       "      <th>Smoking</th>\n",
       "      <th>Obesity</th>\n",
       "      <th>...</th>\n",
       "      <th>Sedentary Hours Per Day</th>\n",
       "      <th>Income</th>\n",
       "      <th>BMI</th>\n",
       "      <th>Triglycerides</th>\n",
       "      <th>Physical Activity Days Per Week</th>\n",
       "      <th>Sleep Hours Per Day</th>\n",
       "      <th>Country</th>\n",
       "      <th>Continent</th>\n",
       "      <th>Hemisphere</th>\n",
       "      <th>Heart Attack Risk</th>\n",
       "    </tr>\n",
       "  </thead>\n",
       "  <tbody>\n",
       "    <tr>\n",
       "      <th>0</th>\n",
       "      <td>RDG0550</td>\n",
       "      <td>33</td>\n",
       "      <td>Male</td>\n",
       "      <td>200</td>\n",
       "      <td>129/90</td>\n",
       "      <td>48</td>\n",
       "      <td>0</td>\n",
       "      <td>1</td>\n",
       "      <td>1</td>\n",
       "      <td>1</td>\n",
       "      <td>...</td>\n",
       "      <td>0.138443</td>\n",
       "      <td>184066</td>\n",
       "      <td>30.449815</td>\n",
       "      <td>63</td>\n",
       "      <td>6</td>\n",
       "      <td>7</td>\n",
       "      <td>Argentina</td>\n",
       "      <td>South America</td>\n",
       "      <td>Southern Hemisphere</td>\n",
       "      <td>1</td>\n",
       "    </tr>\n",
       "    <tr>\n",
       "      <th>1</th>\n",
       "      <td>NMA3851</td>\n",
       "      <td>56</td>\n",
       "      <td>Female</td>\n",
       "      <td>262</td>\n",
       "      <td>159/105</td>\n",
       "      <td>46</td>\n",
       "      <td>1</td>\n",
       "      <td>0</td>\n",
       "      <td>1</td>\n",
       "      <td>0</td>\n",
       "      <td>...</td>\n",
       "      <td>0.369552</td>\n",
       "      <td>211755</td>\n",
       "      <td>34.973685</td>\n",
       "      <td>333</td>\n",
       "      <td>7</td>\n",
       "      <td>8</td>\n",
       "      <td>Nigeria</td>\n",
       "      <td>Africa</td>\n",
       "      <td>Northern Hemisphere</td>\n",
       "      <td>1</td>\n",
       "    </tr>\n",
       "    <tr>\n",
       "      <th>2</th>\n",
       "      <td>TUI5807</td>\n",
       "      <td>19</td>\n",
       "      <td>Female</td>\n",
       "      <td>140</td>\n",
       "      <td>161/109</td>\n",
       "      <td>54</td>\n",
       "      <td>0</td>\n",
       "      <td>1</td>\n",
       "      <td>0</td>\n",
       "      <td>0</td>\n",
       "      <td>...</td>\n",
       "      <td>8.646334</td>\n",
       "      <td>252203</td>\n",
       "      <td>30.554246</td>\n",
       "      <td>537</td>\n",
       "      <td>2</td>\n",
       "      <td>10</td>\n",
       "      <td>Thailand</td>\n",
       "      <td>Asia</td>\n",
       "      <td>Northern Hemisphere</td>\n",
       "      <td>0</td>\n",
       "    </tr>\n",
       "    <tr>\n",
       "      <th>3</th>\n",
       "      <td>YYT5016</td>\n",
       "      <td>50</td>\n",
       "      <td>Female</td>\n",
       "      <td>163</td>\n",
       "      <td>120/62</td>\n",
       "      <td>53</td>\n",
       "      <td>0</td>\n",
       "      <td>1</td>\n",
       "      <td>1</td>\n",
       "      <td>1</td>\n",
       "      <td>...</td>\n",
       "      <td>1.107884</td>\n",
       "      <td>121954</td>\n",
       "      <td>35.390265</td>\n",
       "      <td>591</td>\n",
       "      <td>0</td>\n",
       "      <td>9</td>\n",
       "      <td>Spain</td>\n",
       "      <td>Europe</td>\n",
       "      <td>Southern Hemisphere</td>\n",
       "      <td>1</td>\n",
       "    </tr>\n",
       "    <tr>\n",
       "      <th>4</th>\n",
       "      <td>ZAC5937</td>\n",
       "      <td>89</td>\n",
       "      <td>Female</td>\n",
       "      <td>144</td>\n",
       "      <td>153/110</td>\n",
       "      <td>92</td>\n",
       "      <td>1</td>\n",
       "      <td>0</td>\n",
       "      <td>1</td>\n",
       "      <td>0</td>\n",
       "      <td>...</td>\n",
       "      <td>1.337570</td>\n",
       "      <td>180121</td>\n",
       "      <td>39.575483</td>\n",
       "      <td>145</td>\n",
       "      <td>2</td>\n",
       "      <td>5</td>\n",
       "      <td>Germany</td>\n",
       "      <td>Europe</td>\n",
       "      <td>Northern Hemisphere</td>\n",
       "      <td>1</td>\n",
       "    </tr>\n",
       "    <tr>\n",
       "      <th>...</th>\n",
       "      <td>...</td>\n",
       "      <td>...</td>\n",
       "      <td>...</td>\n",
       "      <td>...</td>\n",
       "      <td>...</td>\n",
       "      <td>...</td>\n",
       "      <td>...</td>\n",
       "      <td>...</td>\n",
       "      <td>...</td>\n",
       "      <td>...</td>\n",
       "      <td>...</td>\n",
       "      <td>...</td>\n",
       "      <td>...</td>\n",
       "      <td>...</td>\n",
       "      <td>...</td>\n",
       "      <td>...</td>\n",
       "      <td>...</td>\n",
       "      <td>...</td>\n",
       "      <td>...</td>\n",
       "      <td>...</td>\n",
       "      <td>...</td>\n",
       "    </tr>\n",
       "    <tr>\n",
       "      <th>7005</th>\n",
       "      <td>BCB2291</td>\n",
       "      <td>29</td>\n",
       "      <td>Female</td>\n",
       "      <td>267</td>\n",
       "      <td>104/105</td>\n",
       "      <td>87</td>\n",
       "      <td>0</td>\n",
       "      <td>0</td>\n",
       "      <td>0</td>\n",
       "      <td>1</td>\n",
       "      <td>...</td>\n",
       "      <td>6.806894</td>\n",
       "      <td>236184</td>\n",
       "      <td>27.521246</td>\n",
       "      <td>598</td>\n",
       "      <td>4</td>\n",
       "      <td>5</td>\n",
       "      <td>France</td>\n",
       "      <td>Europe</td>\n",
       "      <td>Northern Hemisphere</td>\n",
       "      <td>0</td>\n",
       "    </tr>\n",
       "    <tr>\n",
       "      <th>7006</th>\n",
       "      <td>KIG5207</td>\n",
       "      <td>83</td>\n",
       "      <td>Male</td>\n",
       "      <td>296</td>\n",
       "      <td>134/99</td>\n",
       "      <td>77</td>\n",
       "      <td>1</td>\n",
       "      <td>1</td>\n",
       "      <td>1</td>\n",
       "      <td>1</td>\n",
       "      <td>...</td>\n",
       "      <td>3.015648</td>\n",
       "      <td>264390</td>\n",
       "      <td>21.332449</td>\n",
       "      <td>465</td>\n",
       "      <td>4</td>\n",
       "      <td>4</td>\n",
       "      <td>United Kingdom</td>\n",
       "      <td>Europe</td>\n",
       "      <td>Northern Hemisphere</td>\n",
       "      <td>0</td>\n",
       "    </tr>\n",
       "    <tr>\n",
       "      <th>7007</th>\n",
       "      <td>GCY1316</td>\n",
       "      <td>54</td>\n",
       "      <td>Male</td>\n",
       "      <td>120</td>\n",
       "      <td>134/84</td>\n",
       "      <td>103</td>\n",
       "      <td>1</td>\n",
       "      <td>1</td>\n",
       "      <td>1</td>\n",
       "      <td>1</td>\n",
       "      <td>...</td>\n",
       "      <td>4.825724</td>\n",
       "      <td>198358</td>\n",
       "      <td>37.465577</td>\n",
       "      <td>674</td>\n",
       "      <td>6</td>\n",
       "      <td>9</td>\n",
       "      <td>Colombia</td>\n",
       "      <td>South America</td>\n",
       "      <td>Northern Hemisphere</td>\n",
       "      <td>0</td>\n",
       "    </tr>\n",
       "    <tr>\n",
       "      <th>7008</th>\n",
       "      <td>RPK2629</td>\n",
       "      <td>42</td>\n",
       "      <td>Female</td>\n",
       "      <td>147</td>\n",
       "      <td>144/76</td>\n",
       "      <td>81</td>\n",
       "      <td>0</td>\n",
       "      <td>0</td>\n",
       "      <td>1</td>\n",
       "      <td>0</td>\n",
       "      <td>...</td>\n",
       "      <td>6.546390</td>\n",
       "      <td>202828</td>\n",
       "      <td>28.605789</td>\n",
       "      <td>623</td>\n",
       "      <td>7</td>\n",
       "      <td>10</td>\n",
       "      <td>Spain</td>\n",
       "      <td>Europe</td>\n",
       "      <td>Southern Hemisphere</td>\n",
       "      <td>1</td>\n",
       "    </tr>\n",
       "    <tr>\n",
       "      <th>7009</th>\n",
       "      <td>CWO3455</td>\n",
       "      <td>61</td>\n",
       "      <td>Male</td>\n",
       "      <td>176</td>\n",
       "      <td>172/60</td>\n",
       "      <td>56</td>\n",
       "      <td>0</td>\n",
       "      <td>1</td>\n",
       "      <td>1</td>\n",
       "      <td>0</td>\n",
       "      <td>...</td>\n",
       "      <td>6.651328</td>\n",
       "      <td>25823</td>\n",
       "      <td>22.057046</td>\n",
       "      <td>224</td>\n",
       "      <td>7</td>\n",
       "      <td>10</td>\n",
       "      <td>India</td>\n",
       "      <td>Asia</td>\n",
       "      <td>Northern Hemisphere</td>\n",
       "      <td>0</td>\n",
       "    </tr>\n",
       "  </tbody>\n",
       "</table>\n",
       "<p>7010 rows × 26 columns</p>\n",
       "</div>"
      ],
      "text/plain": [
       "     Patient ID  Age     Sex  Cholesterol Blood Pressure  Heart Rate  \\\n",
       "0       RDG0550   33    Male          200         129/90          48   \n",
       "1       NMA3851   56  Female          262        159/105          46   \n",
       "2       TUI5807   19  Female          140        161/109          54   \n",
       "3       YYT5016   50  Female          163         120/62          53   \n",
       "4       ZAC5937   89  Female          144        153/110          92   \n",
       "...         ...  ...     ...          ...            ...         ...   \n",
       "7005    BCB2291   29  Female          267        104/105          87   \n",
       "7006    KIG5207   83    Male          296         134/99          77   \n",
       "7007    GCY1316   54    Male          120         134/84         103   \n",
       "7008    RPK2629   42  Female          147         144/76          81   \n",
       "7009    CWO3455   61    Male          176         172/60          56   \n",
       "\n",
       "      Diabetes  Family History  Smoking  Obesity  ...  \\\n",
       "0            0               1        1        1  ...   \n",
       "1            1               0        1        0  ...   \n",
       "2            0               1        0        0  ...   \n",
       "3            0               1        1        1  ...   \n",
       "4            1               0        1        0  ...   \n",
       "...        ...             ...      ...      ...  ...   \n",
       "7005         0               0        0        1  ...   \n",
       "7006         1               1        1        1  ...   \n",
       "7007         1               1        1        1  ...   \n",
       "7008         0               0        1        0  ...   \n",
       "7009         0               1        1        0  ...   \n",
       "\n",
       "      Sedentary Hours Per Day  Income        BMI  Triglycerides  \\\n",
       "0                    0.138443  184066  30.449815             63   \n",
       "1                    0.369552  211755  34.973685            333   \n",
       "2                    8.646334  252203  30.554246            537   \n",
       "3                    1.107884  121954  35.390265            591   \n",
       "4                    1.337570  180121  39.575483            145   \n",
       "...                       ...     ...        ...            ...   \n",
       "7005                 6.806894  236184  27.521246            598   \n",
       "7006                 3.015648  264390  21.332449            465   \n",
       "7007                 4.825724  198358  37.465577            674   \n",
       "7008                 6.546390  202828  28.605789            623   \n",
       "7009                 6.651328   25823  22.057046            224   \n",
       "\n",
       "      Physical Activity Days Per Week  Sleep Hours Per Day         Country  \\\n",
       "0                                   6                    7       Argentina   \n",
       "1                                   7                    8         Nigeria   \n",
       "2                                   2                   10        Thailand   \n",
       "3                                   0                    9           Spain   \n",
       "4                                   2                    5         Germany   \n",
       "...                               ...                  ...             ...   \n",
       "7005                                4                    5          France   \n",
       "7006                                4                    4  United Kingdom   \n",
       "7007                                6                    9        Colombia   \n",
       "7008                                7                   10           Spain   \n",
       "7009                                7                   10           India   \n",
       "\n",
       "          Continent           Hemisphere  Heart Attack Risk  \n",
       "0     South America  Southern Hemisphere                  1  \n",
       "1            Africa  Northern Hemisphere                  1  \n",
       "2              Asia  Northern Hemisphere                  0  \n",
       "3            Europe  Southern Hemisphere                  1  \n",
       "4            Europe  Northern Hemisphere                  1  \n",
       "...             ...                  ...                ...  \n",
       "7005         Europe  Northern Hemisphere                  0  \n",
       "7006         Europe  Northern Hemisphere                  0  \n",
       "7007  South America  Northern Hemisphere                  0  \n",
       "7008         Europe  Southern Hemisphere                  1  \n",
       "7009           Asia  Northern Hemisphere                  0  \n",
       "\n",
       "[7010 rows x 26 columns]"
      ]
     },
     "execution_count": 4,
     "metadata": {},
     "output_type": "execute_result"
    }
   ],
   "source": [
    "df_train"
   ]
  },
  {
   "cell_type": "code",
   "execution_count": 5,
   "metadata": {},
   "outputs": [
    {
     "name": "stdout",
     "output_type": "stream",
     "text": [
      "<class 'pandas.core.frame.DataFrame'>\n",
      "RangeIndex: 7010 entries, 0 to 7009\n",
      "Data columns (total 26 columns):\n",
      " #   Column                           Non-Null Count  Dtype  \n",
      "---  ------                           --------------  -----  \n",
      " 0   Patient ID                       7010 non-null   object \n",
      " 1   Age                              7010 non-null   int64  \n",
      " 2   Sex                              7010 non-null   object \n",
      " 3   Cholesterol                      7010 non-null   int64  \n",
      " 4   Blood Pressure                   7010 non-null   object \n",
      " 5   Heart Rate                       7010 non-null   int64  \n",
      " 6   Diabetes                         7010 non-null   int64  \n",
      " 7   Family History                   7010 non-null   int64  \n",
      " 8   Smoking                          7010 non-null   int64  \n",
      " 9   Obesity                          7010 non-null   int64  \n",
      " 10  Alcohol Consumption              7010 non-null   int64  \n",
      " 11  Exercise Hours Per Week          7010 non-null   float64\n",
      " 12  Diet                             7010 non-null   object \n",
      " 13  Previous Heart Problems          7010 non-null   int64  \n",
      " 14  Medication Use                   7010 non-null   int64  \n",
      " 15  Stress Level                     7010 non-null   int64  \n",
      " 16  Sedentary Hours Per Day          7010 non-null   float64\n",
      " 17  Income                           7010 non-null   int64  \n",
      " 18  BMI                              7010 non-null   float64\n",
      " 19  Triglycerides                    7010 non-null   int64  \n",
      " 20  Physical Activity Days Per Week  7010 non-null   int64  \n",
      " 21  Sleep Hours Per Day              7010 non-null   int64  \n",
      " 22  Country                          7010 non-null   object \n",
      " 23  Continent                        7010 non-null   object \n",
      " 24  Hemisphere                       7010 non-null   object \n",
      " 25  Heart Attack Risk                7010 non-null   int64  \n",
      "dtypes: float64(3), int64(16), object(7)\n",
      "memory usage: 1.4+ MB\n"
     ]
    }
   ],
   "source": [
    "df_train.info()"
   ]
  },
  {
   "cell_type": "code",
   "execution_count": 6,
   "metadata": {},
   "outputs": [
    {
     "data": {
      "text/html": [
       "<div>\n",
       "<style scoped>\n",
       "    .dataframe tbody tr th:only-of-type {\n",
       "        vertical-align: middle;\n",
       "    }\n",
       "\n",
       "    .dataframe tbody tr th {\n",
       "        vertical-align: top;\n",
       "    }\n",
       "\n",
       "    .dataframe thead th {\n",
       "        text-align: right;\n",
       "    }\n",
       "</style>\n",
       "<table border=\"1\" class=\"dataframe\">\n",
       "  <thead>\n",
       "    <tr style=\"text-align: right;\">\n",
       "      <th></th>\n",
       "      <th>Age</th>\n",
       "      <th>Cholesterol</th>\n",
       "      <th>Heart Rate</th>\n",
       "      <th>Diabetes</th>\n",
       "      <th>Family History</th>\n",
       "      <th>Smoking</th>\n",
       "      <th>Obesity</th>\n",
       "      <th>Alcohol Consumption</th>\n",
       "      <th>Exercise Hours Per Week</th>\n",
       "      <th>Previous Heart Problems</th>\n",
       "      <th>Medication Use</th>\n",
       "      <th>Stress Level</th>\n",
       "      <th>Sedentary Hours Per Day</th>\n",
       "      <th>Income</th>\n",
       "      <th>BMI</th>\n",
       "      <th>Triglycerides</th>\n",
       "      <th>Physical Activity Days Per Week</th>\n",
       "      <th>Sleep Hours Per Day</th>\n",
       "      <th>Heart Attack Risk</th>\n",
       "    </tr>\n",
       "  </thead>\n",
       "  <tbody>\n",
       "    <tr>\n",
       "      <th>count</th>\n",
       "      <td>7010.000000</td>\n",
       "      <td>7010.000000</td>\n",
       "      <td>7010.000000</td>\n",
       "      <td>7010.000000</td>\n",
       "      <td>7010.000000</td>\n",
       "      <td>7010.000000</td>\n",
       "      <td>7010.000000</td>\n",
       "      <td>7010.000000</td>\n",
       "      <td>7010.000000</td>\n",
       "      <td>7010.000000</td>\n",
       "      <td>7010.000000</td>\n",
       "      <td>7010.000000</td>\n",
       "      <td>7010.000000</td>\n",
       "      <td>7010.00000</td>\n",
       "      <td>7010.000000</td>\n",
       "      <td>7010.000000</td>\n",
       "      <td>7010.000000</td>\n",
       "      <td>7010.000000</td>\n",
       "      <td>7010.000000</td>\n",
       "    </tr>\n",
       "    <tr>\n",
       "      <th>mean</th>\n",
       "      <td>53.510414</td>\n",
       "      <td>259.880742</td>\n",
       "      <td>75.105991</td>\n",
       "      <td>0.652782</td>\n",
       "      <td>0.491869</td>\n",
       "      <td>0.896291</td>\n",
       "      <td>0.499857</td>\n",
       "      <td>0.595863</td>\n",
       "      <td>9.979109</td>\n",
       "      <td>0.498146</td>\n",
       "      <td>0.500143</td>\n",
       "      <td>5.451783</td>\n",
       "      <td>5.994007</td>\n",
       "      <td>158245.34893</td>\n",
       "      <td>28.878692</td>\n",
       "      <td>416.782026</td>\n",
       "      <td>3.491583</td>\n",
       "      <td>7.024822</td>\n",
       "      <td>0.357204</td>\n",
       "    </tr>\n",
       "    <tr>\n",
       "      <th>std</th>\n",
       "      <td>21.290957</td>\n",
       "      <td>80.709248</td>\n",
       "      <td>20.507160</td>\n",
       "      <td>0.476120</td>\n",
       "      <td>0.499970</td>\n",
       "      <td>0.304904</td>\n",
       "      <td>0.500036</td>\n",
       "      <td>0.490759</td>\n",
       "      <td>5.769721</td>\n",
       "      <td>0.500032</td>\n",
       "      <td>0.500036</td>\n",
       "      <td>2.857989</td>\n",
       "      <td>3.472022</td>\n",
       "      <td>80585.31666</td>\n",
       "      <td>6.322401</td>\n",
       "      <td>224.195136</td>\n",
       "      <td>2.281077</td>\n",
       "      <td>1.990908</td>\n",
       "      <td>0.479210</td>\n",
       "    </tr>\n",
       "    <tr>\n",
       "      <th>min</th>\n",
       "      <td>18.000000</td>\n",
       "      <td>120.000000</td>\n",
       "      <td>40.000000</td>\n",
       "      <td>0.000000</td>\n",
       "      <td>0.000000</td>\n",
       "      <td>0.000000</td>\n",
       "      <td>0.000000</td>\n",
       "      <td>0.000000</td>\n",
       "      <td>0.002442</td>\n",
       "      <td>0.000000</td>\n",
       "      <td>0.000000</td>\n",
       "      <td>1.000000</td>\n",
       "      <td>0.001263</td>\n",
       "      <td>20062.00000</td>\n",
       "      <td>18.002337</td>\n",
       "      <td>30.000000</td>\n",
       "      <td>0.000000</td>\n",
       "      <td>4.000000</td>\n",
       "      <td>0.000000</td>\n",
       "    </tr>\n",
       "    <tr>\n",
       "      <th>25%</th>\n",
       "      <td>35.000000</td>\n",
       "      <td>192.000000</td>\n",
       "      <td>57.000000</td>\n",
       "      <td>0.000000</td>\n",
       "      <td>0.000000</td>\n",
       "      <td>1.000000</td>\n",
       "      <td>0.000000</td>\n",
       "      <td>0.000000</td>\n",
       "      <td>5.046024</td>\n",
       "      <td>0.000000</td>\n",
       "      <td>0.000000</td>\n",
       "      <td>3.000000</td>\n",
       "      <td>2.971831</td>\n",
       "      <td>88368.00000</td>\n",
       "      <td>23.422280</td>\n",
       "      <td>221.000000</td>\n",
       "      <td>2.000000</td>\n",
       "      <td>5.000000</td>\n",
       "      <td>0.000000</td>\n",
       "    </tr>\n",
       "    <tr>\n",
       "      <th>50%</th>\n",
       "      <td>53.000000</td>\n",
       "      <td>259.000000</td>\n",
       "      <td>75.000000</td>\n",
       "      <td>1.000000</td>\n",
       "      <td>0.000000</td>\n",
       "      <td>1.000000</td>\n",
       "      <td>0.000000</td>\n",
       "      <td>1.000000</td>\n",
       "      <td>9.982968</td>\n",
       "      <td>0.000000</td>\n",
       "      <td>1.000000</td>\n",
       "      <td>5.000000</td>\n",
       "      <td>5.936919</td>\n",
       "      <td>157378.50000</td>\n",
       "      <td>28.737627</td>\n",
       "      <td>416.000000</td>\n",
       "      <td>3.000000</td>\n",
       "      <td>7.000000</td>\n",
       "      <td>0.000000</td>\n",
       "    </tr>\n",
       "    <tr>\n",
       "      <th>75%</th>\n",
       "      <td>72.000000</td>\n",
       "      <td>329.000000</td>\n",
       "      <td>93.000000</td>\n",
       "      <td>1.000000</td>\n",
       "      <td>1.000000</td>\n",
       "      <td>1.000000</td>\n",
       "      <td>1.000000</td>\n",
       "      <td>1.000000</td>\n",
       "      <td>15.029659</td>\n",
       "      <td>1.000000</td>\n",
       "      <td>1.000000</td>\n",
       "      <td>8.000000</td>\n",
       "      <td>9.017592</td>\n",
       "      <td>227218.50000</td>\n",
       "      <td>34.321158</td>\n",
       "      <td>613.000000</td>\n",
       "      <td>5.000000</td>\n",
       "      <td>9.000000</td>\n",
       "      <td>1.000000</td>\n",
       "    </tr>\n",
       "    <tr>\n",
       "      <th>max</th>\n",
       "      <td>90.000000</td>\n",
       "      <td>400.000000</td>\n",
       "      <td>110.000000</td>\n",
       "      <td>1.000000</td>\n",
       "      <td>1.000000</td>\n",
       "      <td>1.000000</td>\n",
       "      <td>1.000000</td>\n",
       "      <td>1.000000</td>\n",
       "      <td>19.998709</td>\n",
       "      <td>1.000000</td>\n",
       "      <td>1.000000</td>\n",
       "      <td>10.000000</td>\n",
       "      <td>11.999313</td>\n",
       "      <td>299954.00000</td>\n",
       "      <td>39.993581</td>\n",
       "      <td>800.000000</td>\n",
       "      <td>7.000000</td>\n",
       "      <td>10.000000</td>\n",
       "      <td>1.000000</td>\n",
       "    </tr>\n",
       "  </tbody>\n",
       "</table>\n",
       "</div>"
      ],
      "text/plain": [
       "               Age  Cholesterol   Heart Rate     Diabetes  Family History  \\\n",
       "count  7010.000000  7010.000000  7010.000000  7010.000000     7010.000000   \n",
       "mean     53.510414   259.880742    75.105991     0.652782        0.491869   \n",
       "std      21.290957    80.709248    20.507160     0.476120        0.499970   \n",
       "min      18.000000   120.000000    40.000000     0.000000        0.000000   \n",
       "25%      35.000000   192.000000    57.000000     0.000000        0.000000   \n",
       "50%      53.000000   259.000000    75.000000     1.000000        0.000000   \n",
       "75%      72.000000   329.000000    93.000000     1.000000        1.000000   \n",
       "max      90.000000   400.000000   110.000000     1.000000        1.000000   \n",
       "\n",
       "           Smoking      Obesity  Alcohol Consumption  Exercise Hours Per Week  \\\n",
       "count  7010.000000  7010.000000          7010.000000              7010.000000   \n",
       "mean      0.896291     0.499857             0.595863                 9.979109   \n",
       "std       0.304904     0.500036             0.490759                 5.769721   \n",
       "min       0.000000     0.000000             0.000000                 0.002442   \n",
       "25%       1.000000     0.000000             0.000000                 5.046024   \n",
       "50%       1.000000     0.000000             1.000000                 9.982968   \n",
       "75%       1.000000     1.000000             1.000000                15.029659   \n",
       "max       1.000000     1.000000             1.000000                19.998709   \n",
       "\n",
       "       Previous Heart Problems  Medication Use  Stress Level  \\\n",
       "count              7010.000000     7010.000000   7010.000000   \n",
       "mean                  0.498146        0.500143      5.451783   \n",
       "std                   0.500032        0.500036      2.857989   \n",
       "min                   0.000000        0.000000      1.000000   \n",
       "25%                   0.000000        0.000000      3.000000   \n",
       "50%                   0.000000        1.000000      5.000000   \n",
       "75%                   1.000000        1.000000      8.000000   \n",
       "max                   1.000000        1.000000     10.000000   \n",
       "\n",
       "       Sedentary Hours Per Day        Income          BMI  Triglycerides  \\\n",
       "count              7010.000000    7010.00000  7010.000000    7010.000000   \n",
       "mean                  5.994007  158245.34893    28.878692     416.782026   \n",
       "std                   3.472022   80585.31666     6.322401     224.195136   \n",
       "min                   0.001263   20062.00000    18.002337      30.000000   \n",
       "25%                   2.971831   88368.00000    23.422280     221.000000   \n",
       "50%                   5.936919  157378.50000    28.737627     416.000000   \n",
       "75%                   9.017592  227218.50000    34.321158     613.000000   \n",
       "max                  11.999313  299954.00000    39.993581     800.000000   \n",
       "\n",
       "       Physical Activity Days Per Week  Sleep Hours Per Day  Heart Attack Risk  \n",
       "count                      7010.000000          7010.000000        7010.000000  \n",
       "mean                          3.491583             7.024822           0.357204  \n",
       "std                           2.281077             1.990908           0.479210  \n",
       "min                           0.000000             4.000000           0.000000  \n",
       "25%                           2.000000             5.000000           0.000000  \n",
       "50%                           3.000000             7.000000           0.000000  \n",
       "75%                           5.000000             9.000000           1.000000  \n",
       "max                           7.000000            10.000000           1.000000  "
      ]
     },
     "execution_count": 6,
     "metadata": {},
     "output_type": "execute_result"
    }
   ],
   "source": [
    "df_train.describe()"
   ]
  },
  {
   "cell_type": "code",
   "execution_count": 7,
   "metadata": {},
   "outputs": [],
   "source": [
    "sns.set(style='whitegrid')\n"
   ]
  },
  {
   "cell_type": "code",
   "execution_count": 8,
   "metadata": {},
   "outputs": [
    {
     "name": "stdout",
     "output_type": "stream",
     "text": [
      "<class 'pandas.core.frame.DataFrame'>\n",
      "RangeIndex: 7010 entries, 0 to 7009\n",
      "Data columns (total 26 columns):\n",
      " #   Column                           Non-Null Count  Dtype  \n",
      "---  ------                           --------------  -----  \n",
      " 0   Patient ID                       7010 non-null   object \n",
      " 1   Age                              7010 non-null   int64  \n",
      " 2   Sex                              7010 non-null   object \n",
      " 3   Cholesterol                      7010 non-null   int64  \n",
      " 4   Blood Pressure                   7010 non-null   object \n",
      " 5   Heart Rate                       7010 non-null   int64  \n",
      " 6   Diabetes                         7010 non-null   int64  \n",
      " 7   Family History                   7010 non-null   int64  \n",
      " 8   Smoking                          7010 non-null   int64  \n",
      " 9   Obesity                          7010 non-null   int64  \n",
      " 10  Alcohol Consumption              7010 non-null   int64  \n",
      " 11  Exercise Hours Per Week          7010 non-null   float64\n",
      " 12  Diet                             7010 non-null   object \n",
      " 13  Previous Heart Problems          7010 non-null   int64  \n",
      " 14  Medication Use                   7010 non-null   int64  \n",
      " 15  Stress Level                     7010 non-null   int64  \n",
      " 16  Sedentary Hours Per Day          7010 non-null   float64\n",
      " 17  Income                           7010 non-null   int64  \n",
      " 18  BMI                              7010 non-null   float64\n",
      " 19  Triglycerides                    7010 non-null   int64  \n",
      " 20  Physical Activity Days Per Week  7010 non-null   int64  \n",
      " 21  Sleep Hours Per Day              7010 non-null   int64  \n",
      " 22  Country                          7010 non-null   object \n",
      " 23  Continent                        7010 non-null   object \n",
      " 24  Hemisphere                       7010 non-null   object \n",
      " 25  Heart Attack Risk                7010 non-null   int64  \n",
      "dtypes: float64(3), int64(16), object(7)\n",
      "memory usage: 1.4+ MB\n"
     ]
    }
   ],
   "source": [
    "df_train.info()"
   ]
  },
  {
   "cell_type": "code",
   "execution_count": 9,
   "metadata": {},
   "outputs": [
    {
     "data": {
      "text/plain": [
       "Text(0.5, 1.0, 'Income')"
      ]
     },
     "execution_count": 9,
     "metadata": {},
     "output_type": "execute_result"
    },
    {
     "data": {
      "image/png": "[encoded data removed]",
      "text/plain": [
       "<Figure size 2000x1500 with 3 Axes>"
      ]
     },
     "metadata": {},
     "output_type": "display_data"
    }
   ],
   "source": [
    "plt.figure(figsize=(20, 15), facecolor='white')\n",
    "\n",
    "\n",
    "plt.subplot(3,2,1)\n",
    "sns.histplot(df_train['Age'],kde=True,color='blue')\n",
    "plt.title('Age Distribution')\n",
    "\n",
    "plt.subplot(3,2,2)\n",
    "sns.histplot(df_train['Cholesterol'],kde=True,color='red')\n",
    "plt.title('Cholesterol')\n",
    "\n",
    "plt.subplot(3,2,3)\n",
    "sns.histplot(df_train['Income'],kde=True,color='green')\n",
    "plt.title('Income')"
   ]
  },
  {
   "cell_type": "code",
   "execution_count": 10,
   "metadata": {},
   "outputs": [
    {
     "name": "stdout",
     "output_type": "stream",
     "text": [
      "<class 'pandas.core.frame.DataFrame'>\n",
      "RangeIndex: 7010 entries, 0 to 7009\n",
      "Data columns (total 26 columns):\n",
      " #   Column                           Non-Null Count  Dtype  \n",
      "---  ------                           --------------  -----  \n",
      " 0   Patient ID                       7010 non-null   object \n",
      " 1   Age                              7010 non-null   int64  \n",
      " 2   Sex                              7010 non-null   object \n",
      " 3   Cholesterol                      7010 non-null   int64  \n",
      " 4   Blood Pressure                   7010 non-null   object \n",
      " 5   Heart Rate                       7010 non-null   int64  \n",
      " 6   Diabetes                         7010 non-null   int64  \n",
      " 7   Family History                   7010 non-null   int64  \n",
      " 8   Smoking                          7010 non-null   int64  \n",
      " 9   Obesity                          7010 non-null   int64  \n",
      " 10  Alcohol Consumption              7010 non-null   int64  \n",
      " 11  Exercise Hours Per Week          7010 non-null   float64\n",
      " 12  Diet                             7010 non-null   object \n",
      " 13  Previous Heart Problems          7010 non-null   int64  \n",
      " 14  Medication Use                   7010 non-null   int64  \n",
      " 15  Stress Level                     7010 non-null   int64  \n",
      " 16  Sedentary Hours Per Day          7010 non-null   float64\n",
      " 17  Income                           7010 non-null   int64  \n",
      " 18  BMI                              7010 non-null   float64\n",
      " 19  Triglycerides                    7010 non-null   int64  \n",
      " 20  Physical Activity Days Per Week  7010 non-null   int64  \n",
      " 21  Sleep Hours Per Day              7010 non-null   int64  \n",
      " 22  Country                          7010 non-null   object \n",
      " 23  Continent                        7010 non-null   object \n",
      " 24  Hemisphere                       7010 non-null   object \n",
      " 25  Heart Attack Risk                7010 non-null   int64  \n",
      "dtypes: float64(3), int64(16), object(7)\n",
      "memory usage: 1.4+ MB\n"
     ]
    }
   ],
   "source": [
    "df_train.info()"
   ]
  },
  {
   "cell_type": "code",
   "execution_count": 11,
   "metadata": {},
   "outputs": [
    {
     "data": {
      "text/plain": [
       "(7010, 26)"
      ]
     },
     "execution_count": 11,
     "metadata": {},
     "output_type": "execute_result"
    }
   ],
   "source": [
    "df_train.shape"
   ]
  },
  {
   "cell_type": "code",
   "execution_count": 19,
   "metadata": {},
   "outputs": [
    {
     "data": {
      "image/png": "[encoded data removed]",
      "text/plain": [
       "<Figure size 1000x600 with 1 Axes>"
      ]
     },
     "metadata": {},
     "output_type": "display_data"
    }
   ],
   "source": [
    "#Visualization of Age in distribution\n",
    "\n",
    "plt.figure(figsize=(10,6),facecolor='white')\n",
    "plt.hist(df_train['Age'],bins=range(int(df_train['Age'].min()),int(df_train['Age'].max())),color='skyblue', edgecolor='black')\n",
    "plt.title('Age Dsitribution')\n",
    "plt.xlabel('Age')\n",
    "plt.ylabel('Frequency')\n",
    "plt.grid(axis='both',alpha=0.9)\n",
    "plt.show()"
   ]
  },
  {
   "cell_type": "code",
   "execution_count": 20,
   "metadata": {},
   "outputs": [
    {
     "data": {
      "text/plain": [
       "count    7010.000000\n",
       "mean       53.510414\n",
       "std        21.290957\n",
       "min        18.000000\n",
       "25%        35.000000\n",
       "50%        53.000000\n",
       "75%        72.000000\n",
       "max        90.000000\n",
       "Name: Age, dtype: float64"
      ]
     },
     "execution_count": 20,
     "metadata": {},
     "output_type": "execute_result"
    }
   ],
   "source": [
    "df_train['Age'].describe()"
   ]
  },
  {
   "cell_type": "code",
   "execution_count": 21,
   "metadata": {},
   "outputs": [
    {
     "data": {
      "text/plain": [
       "0.03387212875942834"
      ]
     },
     "execution_count": 21,
     "metadata": {},
     "output_type": "execute_result"
    }
   ],
   "source": [
    "df_train['Age'].skew()"
   ]
  },
  {
   "cell_type": "code",
   "execution_count": 22,
   "metadata": {},
   "outputs": [
    {
     "data": {
      "text/plain": [
       "-1.2079031539988083"
      ]
     },
     "execution_count": 22,
     "metadata": {},
     "output_type": "execute_result"
    }
   ],
   "source": [
    "df_train['Age'].kurtosis()"
   ]
  },
  {
   "cell_type": "code",
   "execution_count": 36,
   "metadata": {},
   "outputs": [],
   "source": [
    "#Age distribution analysis in detpth \n",
    "\n",
    "age_skewness=df_train['Age'].skew()\n",
    "age_kurtosis=df_train['Age'].kurtosis()\n",
    "\n",
    "#defining age groups\n",
    "\n",
    "#Below 18\n",
    "\n",
    "Below_18 = df_train[df_train['Age'] < 18]['Age'].count()\n"
   ]
  },
  {
   "cell_type": "code",
   "execution_count": 37,
   "metadata": {},
   "outputs": [
    {
     "data": {
      "text/plain": [
       "0"
      ]
     },
     "execution_count": 37,
     "metadata": {},
     "output_type": "execute_result"
    }
   ],
   "source": [
    "Below_18\n"
   ]
  },
  {
   "cell_type": "code",
   "execution_count": 47,
   "metadata": {},
   "outputs": [],
   "source": [
    "#Between 18 and 45: Young Adults\n",
    "Young_adult=df_train[(df_train['Age']>=18) & (df_train['Age']< 45)]['Age'].count()\n",
    "\n",
    "#Middle Aged Adults\n",
    "Middle_aged_adults=df_train[(df_train['Age']>=45) & (df_train['Age']< 65)]['Age'].count()\n",
    "\n",
    "#Senior Adults\n",
    "\n",
    "Senior_adults=df_train[df_train['Age']>=65]['Age'].count()"
   ]
  },
  {
   "cell_type": "code",
   "execution_count": 44,
   "metadata": {},
   "outputs": [
    {
     "data": {
      "text/plain": [
       "2679"
      ]
     },
     "execution_count": 44,
     "metadata": {},
     "output_type": "execute_result"
    }
   ],
   "source": [
    "Young_adult"
   ]
  },
  {
   "cell_type": "code",
   "execution_count": 46,
   "metadata": {},
   "outputs": [
    {
     "data": {
      "text/plain": [
       "1900"
      ]
     },
     "execution_count": 46,
     "metadata": {},
     "output_type": "execute_result"
    }
   ],
   "source": [
    "Middle_aged_adults"
   ]
  },
  {
   "cell_type": "code",
   "execution_count": 48,
   "metadata": {},
   "outputs": [
    {
     "data": {
      "text/plain": [
       "2431"
      ]
     },
     "execution_count": 48,
     "metadata": {},
     "output_type": "execute_result"
    }
   ],
   "source": [
    "Senior_adults"
   ]
  },
  {
   "cell_type": "code",
   "execution_count": 49,
   "metadata": {},
   "outputs": [],
   "source": [
    "new_df=pd.DataFrame()"
   ]
  },
  {
   "cell_type": "code",
   "execution_count": 58,
   "metadata": {},
   "outputs": [],
   "source": [
    "bins=[0,18,45,65,120]\n",
    "labels=['Below 18','18 to 44','45 to 64','65 and above']\n",
    "\n",
    "\n",
    "new_df['Age_Group']=pd.cut(df_train['Age'],bins=bins,labels=labels,right=False)\n",
    "age_group_counts=new_df['Age_Group'].value_counts()\n",
    "age_group_percentages=new_df['Age_Group'].value_counts(normalize=True)*100\n"
   ]
  },
  {
   "cell_type": "code",
   "execution_count": 59,
   "metadata": {},
   "outputs": [
    {
     "data": {
      "text/plain": [
       "Age_Group\n",
       "18 to 44        38.216833\n",
       "65 and above    34.679030\n",
       "45 to 64        27.104137\n",
       "Below 18         0.000000\n",
       "Name: proportion, dtype: float64"
      ]
     },
     "execution_count": 59,
     "metadata": {},
     "output_type": "execute_result"
    }
   ],
   "source": [
    "age_group_percentages"
   ]
  },
  {
   "cell_type": "code",
   "execution_count": 60,
   "metadata": {},
   "outputs": [
    {
     "data": {
      "image/png": "[encoded data removed]",
      "text/plain": [
       "<Figure size 1000x600 with 1 Axes>"
      ]
     },
     "metadata": {},
     "output_type": "display_data"
    }
   ],
   "source": [
    "plt.figure(figsize=(10,6),facecolor='white')\n",
    "age_group_counts.plot(kind='bar',color='skyblue',edgecolor='black')\n",
    "plt.title('Age Group Distribution')\n",
    "plt.xlabel('Age Group')\n",
    "plt.ylabel('Number of Individuals')\n",
    "plt.xticks(rotation=45)\n",
    "plt.grid(axis='y', alpha=0.75)\n",
    "plt.show()"
   ]
  },
  {
   "cell_type": "code",
   "execution_count": 63,
   "metadata": {},
   "outputs": [
    {
     "data": {
      "text/plain": [
       "Age\n",
       "90    121\n",
       "Name: count, dtype: int64"
      ]
     },
     "execution_count": 63,
     "metadata": {},
     "output_type": "execute_result"
    }
   ],
   "source": [
    "df_train[df_train['Age']>=90]['Age'].value_counts()"
   ]
  },
  {
   "cell_type": "code",
   "execution_count": 56,
   "metadata": {},
   "outputs": [
    {
     "data": {
      "text/plain": [
       "Age_Group\n",
       "18 to 44        267900\n",
       "65 and above    243100\n",
       "45 to 64        190000\n",
       "Below 18             0\n",
       "Name: count, dtype: int64"
      ]
     },
     "execution_count": 56,
     "metadata": {},
     "output_type": "execute_result"
    }
   ],
   "source": []
  },
  {
   "cell_type": "code",
   "execution_count": 67,
   "metadata": {},
   "outputs": [
    {
     "data": {
      "text/plain": [
       "Sex\n",
       "Male    4891\n",
       "Name: count, dtype: int64"
      ]
     },
     "execution_count": 67,
     "metadata": {},
     "output_type": "execute_result"
    }
   ],
   "source": [
    "df_train[df_train['Sex']=='Male']['Sex'].value_counts()\n"
   ]
  },
  {
   "cell_type": "code",
   "execution_count": 68,
   "metadata": {},
   "outputs": [
    {
     "data": {
      "text/plain": [
       "Sex\n",
       "Female    2119\n",
       "Name: count, dtype: int64"
      ]
     },
     "execution_count": 68,
     "metadata": {},
     "output_type": "execute_result"
    }
   ],
   "source": [
    "df_train[df_train['Sex']=='Female']['Sex'].value_counts()"
   ]
  },
  {
   "cell_type": "code",
   "execution_count": 74,
   "metadata": {},
   "outputs": [],
   "source": [
    "gender_counts=df_train['Sex'].value_counts(normalize=True)*100"
   ]
  },
  {
   "cell_type": "code",
   "execution_count": 75,
   "metadata": {},
   "outputs": [
    {
     "data": {
      "image/png": "[encoded data removed]",
      "text/plain": [
       "<Figure size 800x600 with 1 Axes>"
      ]
     },
     "metadata": {},
     "output_type": "display_data"
    },
    {
     "name": "stdout",
     "output_type": "stream",
     "text": [
      "Sex\n",
      "Male      69.771755\n",
      "Female    30.228245\n",
      "Name: proportion, dtype: float64\n"
     ]
    }
   ],
   "source": [
    "# Plotting the gender distribution\n",
    "plt.figure(figsize=(8, 6), facecolor='white')\n",
    "plt.pie(gender_counts, labels=gender_counts.index, autopct='%1.1f%%', startangle=140, colors=['skyblue', 'lightpink'])\n",
    "plt.title('Gender Distribution')\n",
    "plt.show()\n",
    "\n",
    "print(gender_counts)"
   ]
  },
  {
   "cell_type": "code",
   "execution_count": 76,
   "metadata": {},
   "outputs": [
    {
     "data": {
      "text/plain": [
       "Diet\n",
       "Healthy      33.537803\n",
       "Average      33.395150\n",
       "Unhealthy    33.067047\n",
       "Name: proportion, dtype: float64"
      ]
     },
     "execution_count": 76,
     "metadata": {},
     "output_type": "execute_result"
    }
   ],
   "source": [
    "df_train['Diet'].value_counts(normalize=True)*100"
   ]
  },
  {
   "cell_type": "code",
   "execution_count": 77,
   "metadata": {},
   "outputs": [
    {
     "data": {
      "text/plain": [
       "count      7010.00000\n",
       "mean     158245.34893\n",
       "std       80585.31666\n",
       "min       20062.00000\n",
       "25%       88368.00000\n",
       "50%      157378.50000\n",
       "75%      227218.50000\n",
       "max      299954.00000\n",
       "Name: Income, dtype: float64"
      ]
     },
     "execution_count": 77,
     "metadata": {},
     "output_type": "execute_result"
    }
   ],
   "source": [
    "df_train['Income'].describe()"
   ]
  },
  {
   "cell_type": "code",
   "execution_count": null,
   "metadata": {},
   "outputs": [],
   "source": []
  }
 ],
 "metadata": {
  "kernelspec": {
   "display_name": "base",
   "language": "python",
   "name": "python3"
  },
  "language_info": {
   "codemirror_mode": {
    "name": "ipython",
    "version": 3
   },
   "file_extension": ".py",
   "mimetype": "text/x-python",
   "name": "python",
   "nbconvert_exporter": "python",
   "pygments_lexer": "ipython3",
   "version": "3.11.5"
  }
 },
 "nbformat": 4,
 "nbformat_minor": 2
}
