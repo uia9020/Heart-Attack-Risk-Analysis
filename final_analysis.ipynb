{
 "cells": [
  {
   "cell_type": "code",
   "execution_count": 1,
   "metadata": {},
   "outputs": [],
   "source": [
    "import pandas as pd\n",
    "import matplotlib.pyplot as plt\n",
    "import seaborn as sns\n",
    "import numpy as np\n",
    "\n",
    "from sklearn.model_selection import train_test_split\n",
    "\n",
    "from sklearn.linear_model import LogisticRegression\n",
    "from sklearn.tree import DecisionTreeClassifier\n",
    "from sklearn.ensemble import RandomForestClassifier, GradientBoostingClassifier\n",
    "from sklearn.svm import SVC\n",
    "from sklearn.metrics import accuracy_score\n",
    "import lightgbm as lgb\n",
    "\n",
    "# Importing all important libraries for the project\n",
    "import pandas as pd\n",
    "import numpy as np\n",
    "import matplotlib.pyplot as plt\n",
    "import seaborn as sns\n",
    "from sklearn.impute import SimpleImputer\n",
    "from sklearn.preprocessing import LabelEncoder, QuantileTransformer, OneHotEncoder\n",
    "from sklearn.model_selection import train_test_split, GridSearchCV\n",
    "from sklearn.linear_model import  LogisticRegression\n",
    "from sklearn.svm import SVR, SVC\n",
    "from sklearn.tree import DecisionTreeRegressor, DecisionTreeClassifier\n",
    "from sklearn.ensemble import RandomForestRegressor, GradientBoostingRegressor, AdaBoostRegressor, RandomForestClassifier, GradientBoostingClassifier, AdaBoostClassifier\n",
    "from sklearn.neighbors import KNeighborsRegressor, KNeighborsClassifier\n",
    "from sklearn.pipeline import Pipeline\n",
    "from sklearn.metrics import mean_squared_error, mean_absolute_error, r2_score, mean_absolute_percentage_error, mean_squared_error, accuracy_score\n",
    "from sklearn.metrics import confusion_matrix, classification_report, roc_auc_score, roc_curve, auc, precision_score, recall_score, f1_score\n",
    "from xgboost import XGBRegressor, XGBClassifier\n",
    "from catboost import CatBoostRegressor, CatBoostClassifier\n",
    "from lightgbm import LGBMRegressor, LGBMClassifier\n",
    "from sklearn.naive_bayes import GaussianNB, MultinomialNB, BernoulliNB\n",
    "from sklearn.pipeline import Pipeline\n",
    "from sklearn.compose import ColumnTransformer\n",
    "from sklearn.linear_model import LogisticRegression\n",
    "import pickle\n",
    "import warnings\n",
    "warnings.filterwarnings('ignore')"
   ]
  },
  {
   "cell_type": "code",
   "execution_count": 2,
   "metadata": {},
   "outputs": [
    {
     "data": {
      "text/html": [
       "<div>\n",
       "<style scoped>\n",
       "    .dataframe tbody tr th:only-of-type {\n",
       "        vertical-align: middle;\n",
       "    }\n",
       "\n",
       "    .dataframe tbody tr th {\n",
       "        vertical-align: top;\n",
       "    }\n",
       "\n",
       "    .dataframe thead th {\n",
       "        text-align: right;\n",
       "    }\n",
       "</style>\n",
       "<table border=\"1\" class=\"dataframe\">\n",
       "  <thead>\n",
       "    <tr style=\"text-align: right;\">\n",
       "      <th></th>\n",
       "      <th>id</th>\n",
       "      <th>age</th>\n",
       "      <th>sex</th>\n",
       "      <th>dataset</th>\n",
       "      <th>cp</th>\n",
       "      <th>trestbps</th>\n",
       "      <th>chol</th>\n",
       "      <th>fbs</th>\n",
       "      <th>restecg</th>\n",
       "      <th>thalch</th>\n",
       "      <th>exang</th>\n",
       "      <th>oldpeak</th>\n",
       "      <th>slope</th>\n",
       "      <th>ca</th>\n",
       "      <th>thal</th>\n",
       "      <th>num</th>\n",
       "    </tr>\n",
       "  </thead>\n",
       "  <tbody>\n",
       "    <tr>\n",
       "      <th>0</th>\n",
       "      <td>1</td>\n",
       "      <td>63</td>\n",
       "      <td>Male</td>\n",
       "      <td>Cleveland</td>\n",
       "      <td>typical angina</td>\n",
       "      <td>145.0</td>\n",
       "      <td>233.0</td>\n",
       "      <td>True</td>\n",
       "      <td>lv hypertrophy</td>\n",
       "      <td>150.0</td>\n",
       "      <td>False</td>\n",
       "      <td>2.3</td>\n",
       "      <td>downsloping</td>\n",
       "      <td>0.0</td>\n",
       "      <td>fixed defect</td>\n",
       "      <td>0</td>\n",
       "    </tr>\n",
       "    <tr>\n",
       "      <th>1</th>\n",
       "      <td>2</td>\n",
       "      <td>67</td>\n",
       "      <td>Male</td>\n",
       "      <td>Cleveland</td>\n",
       "      <td>asymptomatic</td>\n",
       "      <td>160.0</td>\n",
       "      <td>286.0</td>\n",
       "      <td>False</td>\n",
       "      <td>lv hypertrophy</td>\n",
       "      <td>108.0</td>\n",
       "      <td>True</td>\n",
       "      <td>1.5</td>\n",
       "      <td>flat</td>\n",
       "      <td>3.0</td>\n",
       "      <td>normal</td>\n",
       "      <td>2</td>\n",
       "    </tr>\n",
       "    <tr>\n",
       "      <th>2</th>\n",
       "      <td>3</td>\n",
       "      <td>67</td>\n",
       "      <td>Male</td>\n",
       "      <td>Cleveland</td>\n",
       "      <td>asymptomatic</td>\n",
       "      <td>120.0</td>\n",
       "      <td>229.0</td>\n",
       "      <td>False</td>\n",
       "      <td>lv hypertrophy</td>\n",
       "      <td>129.0</td>\n",
       "      <td>True</td>\n",
       "      <td>2.6</td>\n",
       "      <td>flat</td>\n",
       "      <td>2.0</td>\n",
       "      <td>reversable defect</td>\n",
       "      <td>1</td>\n",
       "    </tr>\n",
       "    <tr>\n",
       "      <th>3</th>\n",
       "      <td>4</td>\n",
       "      <td>37</td>\n",
       "      <td>Male</td>\n",
       "      <td>Cleveland</td>\n",
       "      <td>non-anginal</td>\n",
       "      <td>130.0</td>\n",
       "      <td>250.0</td>\n",
       "      <td>False</td>\n",
       "      <td>normal</td>\n",
       "      <td>187.0</td>\n",
       "      <td>False</td>\n",
       "      <td>3.5</td>\n",
       "      <td>downsloping</td>\n",
       "      <td>0.0</td>\n",
       "      <td>normal</td>\n",
       "      <td>0</td>\n",
       "    </tr>\n",
       "    <tr>\n",
       "      <th>4</th>\n",
       "      <td>5</td>\n",
       "      <td>41</td>\n",
       "      <td>Female</td>\n",
       "      <td>Cleveland</td>\n",
       "      <td>atypical angina</td>\n",
       "      <td>130.0</td>\n",
       "      <td>204.0</td>\n",
       "      <td>False</td>\n",
       "      <td>lv hypertrophy</td>\n",
       "      <td>172.0</td>\n",
       "      <td>False</td>\n",
       "      <td>1.4</td>\n",
       "      <td>upsloping</td>\n",
       "      <td>0.0</td>\n",
       "      <td>normal</td>\n",
       "      <td>0</td>\n",
       "    </tr>\n",
       "  </tbody>\n",
       "</table>\n",
       "</div>"
      ],
      "text/plain": [
       "   id  age     sex    dataset               cp  trestbps   chol    fbs  \\\n",
       "0   1   63    Male  Cleveland   typical angina     145.0  233.0   True   \n",
       "1   2   67    Male  Cleveland     asymptomatic     160.0  286.0  False   \n",
       "2   3   67    Male  Cleveland     asymptomatic     120.0  229.0  False   \n",
       "3   4   37    Male  Cleveland      non-anginal     130.0  250.0  False   \n",
       "4   5   41  Female  Cleveland  atypical angina     130.0  204.0  False   \n",
       "\n",
       "          restecg  thalch  exang  oldpeak        slope   ca  \\\n",
       "0  lv hypertrophy   150.0  False      2.3  downsloping  0.0   \n",
       "1  lv hypertrophy   108.0   True      1.5         flat  3.0   \n",
       "2  lv hypertrophy   129.0   True      2.6         flat  2.0   \n",
       "3          normal   187.0  False      3.5  downsloping  0.0   \n",
       "4  lv hypertrophy   172.0  False      1.4    upsloping  0.0   \n",
       "\n",
       "                thal  num  \n",
       "0       fixed defect    0  \n",
       "1             normal    2  \n",
       "2  reversable defect    1  \n",
       "3             normal    0  \n",
       "4             normal    0  "
      ]
     },
     "execution_count": 2,
     "metadata": {},
     "output_type": "execute_result"
    }
   ],
   "source": [
    "df=pd.read_csv('heart_disease_uci.csv')\n",
    "df.head()"
   ]
  },
  {
   "cell_type": "code",
   "execution_count": 3,
   "metadata": {},
   "outputs": [
    {
     "data": {
      "text/plain": [
       "172"
      ]
     },
     "execution_count": 3,
     "metadata": {},
     "output_type": "execute_result"
    }
   ],
   "source": [
    "# Check for all zero cholestrol values\n",
    "len(df[df['chol'] == 0])"
   ]
  },
  {
   "cell_type": "code",
   "execution_count": 4,
   "metadata": {},
   "outputs": [],
   "source": [
    "# calculate the percentage of missing values in the column\n",
    "missing_percentage = df['chol'].isnull().sum() / df.shape[0] * 100\n",
    "missing_percentage = round(missing_percentage, 2)\n"
   ]
  },
  {
   "cell_type": "code",
   "execution_count": 5,
   "metadata": {},
   "outputs": [],
   "source": [
    "# replace zero values with NaN in cholestrol column\n",
    "df['chol'] = df['chol'].replace(0, np.nan)\n",
    "# calculate the percentage of missing values in the column\n",
    "missing_percentage = df['chol'].isnull().sum() / df.shape[0] * 100\n",
    "missing_percentage = round(missing_percentage, 2)"
   ]
  },
  {
   "cell_type": "code",
   "execution_count": 6,
   "metadata": {},
   "outputs": [
    {
     "data": {
      "text/plain": [
       "ca          66.41%\n",
       "thal        52.83%\n",
       "slope       33.59%\n",
       "chol        21.96%\n",
       "fbs          9.78%\n",
       "oldpeak      6.74%\n",
       "trestbps     6.41%\n",
       "thalch       5.98%\n",
       "exang        5.98%\n",
       "restecg      0.22%\n",
       "id            0.0%\n",
       "age           0.0%\n",
       "sex           0.0%\n",
       "dataset       0.0%\n",
       "cp            0.0%\n",
       "num           0.0%\n",
       "dtype: object"
      ]
     },
     "execution_count": 6,
     "metadata": {},
     "output_type": "execute_result"
    }
   ],
   "source": [
    "feature_percent = round(((df.isnull().sum() / len(df)) * 100 ).sort_values(ascending=False),2)\n",
    "\n",
    "# add % sympbol\n",
    "feature_percent = feature_percent.astype(str) + '%'\n",
    "feature_percent"
   ]
  },
  {
   "cell_type": "code",
   "execution_count": 7,
   "metadata": {},
   "outputs": [
    {
     "data": {
      "image/png": "[encoded data removed]",
      "text/plain": [
       "<Figure size 1600x600 with 1 Axes>"
      ]
     },
     "metadata": {},
     "output_type": "display_data"
    }
   ],
   "source": [
    "# create heatmap to check missing values after imputation\n",
    "plt.figure(figsize=(16, 6))\n",
    "sns.heatmap(df.isnull(), cbar=False, yticklabels=False, cmap='RdPu')\n",
    "plt.title('Missing values after imputation', size=23)\n",
    "plt.show()"
   ]
  },
  {
   "cell_type": "code",
   "execution_count": 8,
   "metadata": {},
   "outputs": [],
   "source": [
    "# Import KNNImputer from sklearn.impute\n",
    "from sklearn.impute import KNNImputer\n",
    "\n",
    "# Initialize KNNImputer with 5 nearest neighbors\n",
    "imputer = KNNImputer(n_neighbors=5)\n",
    "\n",
    "# Use KNNImputer to fill missing values in 'chol' column\n",
    "df['chol'] = imputer.fit_transform(df[['chol']])\n",
    "\n",
    "# Convert 'chol' column to integer type\n",
    "df['chol'] = df['chol'].astype(int)"
   ]
  },
  {
   "cell_type": "code",
   "execution_count": 9,
   "metadata": {},
   "outputs": [
    {
     "name": "stdout",
     "output_type": "stream",
     "text": [
      "OBSERVATIONS FROM MISSING VALUES AFTER IMPUTATION\n",
      "The sum of all missing values, excluding features ['thal', 'ca', 'slope'], is:\n",
      "age         0\n",
      "chol        0\n",
      "cp          0\n",
      "dataset     0\n",
      "exang       0\n",
      "fbs         0\n",
      "id          0\n",
      "num         0\n",
      "oldpeak     0\n",
      "restecg     0\n",
      "sex         0\n",
      "thalch      0\n",
      "trestbps    0\n",
      "dtype: int64\n",
      "\n",
      "HIGH MISSING VALUES FEATURES\n",
      "The sum of all high missing values where simple imputation wasn't used, is:\n",
      "thal     486\n",
      "ca       611\n",
      "slope    309\n",
      "dtype: int64\n"
     ]
    }
   ],
   "source": [
    "# Automatically find numerical and categorical columns with missing values less than 10%\n",
    "missing_threshold = 10  # 10% threshold for missing values\n",
    "total_entries = len(df)\n",
    "target_variable = 'num'\n",
    "\n",
    "# list of numerical columns that have less than a certain threshold of missing values and are not the target variable.\n",
    "numerical_cols = [\n",
    "    col \n",
    "    for col in df.columns \n",
    "    if (\n",
    "        (df[col].dtype in ['int64', 'float64']) and \n",
    "        (df[col].isnull().sum() / total_entries * 100) < missing_threshold  and\n",
    "        (col != target_variable)\n",
    "       \n",
    "    )\n",
    "]\n",
    "\n",
    "# list of numerical columns that have less than a certain threshold of missing values\n",
    "categorical_cols = [col\n",
    "                   for col in df.columns \n",
    "                   if (\n",
    "                        df[col].dtype == 'object') and \n",
    "                        (df[col].isnull().sum() / total_entries * 100) < missing_threshold]\n",
    "\n",
    "# Apply simple imputation to numerical and categorical columns\n",
    "num_imputer = SimpleImputer(strategy='median')\n",
    "cat_imputer = SimpleImputer(strategy='most_frequent')\n",
    "\n",
    "for col in numerical_cols:\n",
    "    df.loc[:,col] = num_imputer.fit_transform(df[[col]])\n",
    "\n",
    "for col in categorical_cols:\n",
    "    df.loc[:, col] = cat_imputer.fit_transform(df[[col]])\n",
    "\n",
    "print('Observations from missing values after imputation'.upper())\n",
    "\n",
    "# Confirm there are no missing values left\n",
    "missing_values_sum = df[df.columns.difference(['thal', 'ca', 'slope'])].isnull().sum()\n",
    "\n",
    "print(f\"The sum of all missing values, excluding features ['thal', 'ca', 'slope'], is:\\n{missing_values_sum}\"  + \"\\n\")\n",
    "print('High missing values features'.upper())\n",
    "\n",
    "# Display the features with missing values \n",
    "print(f\"The sum of all high missing values where simple imputation wasn't used, is:\\n{df[['thal', 'ca', 'slope']].isnull().sum()}\")\n",
    "    "
   ]
  },
  {
   "cell_type": "code",
   "execution_count": 10,
   "metadata": {},
   "outputs": [
    {
     "data": {
      "image/png": "[encoded data removed]",
      "text/plain": [
       "<Figure size 1600x600 with 1 Axes>"
      ]
     },
     "metadata": {},
     "output_type": "display_data"
    }
   ],
   "source": [
    "# create heatmap to check missing values after imputation\n",
    "plt.figure(figsize=(16, 6))\n",
    "sns.heatmap(df.isnull(), cbar=False, yticklabels=False, cmap='RdPu')\n",
    "plt.title('Missing values after imputation', size=23)\n",
    "plt.show()"
   ]
  },
  {
   "cell_type": "code",
   "execution_count": 11,
   "metadata": {},
   "outputs": [
    {
     "name": "stdout",
     "output_type": "stream",
     "text": [
      "COMPLETE DATA WITH NO MISSING VALUES\n",
      "The shape of the complete dataframe is: (299, 16)\n",
      "\n",
      "\n",
      "MISSING DATA WITH HIGH MISSING VALUES\n",
      "The shape of the dataframe with missing values is: (621, 16)\n"
     ]
    }
   ],
   "source": [
    "# split the dataset into two subset with one contaning complete data and the other containing \n",
    "# missing data for thal, ca, and slope. these dataset should still have all the columns in the result.\n",
    "# create a new dataframe which removes all the rows that nan values\n",
    "df_clean = df.dropna()\n",
    "\n",
    "# create a new dataframe which contains all the rows that have nan values\n",
    "df_missing = df[df.isna().any(axis=1)]\n",
    "\n",
    "print('Complete data with no missing values'.upper())\n",
    "print(f\"The shape of the complete dataframe is: {df_clean.shape}\")\n",
    "print(\"\\n\")\n",
    "print('Missing data with high missing values'.upper())\n",
    "print(f\"The shape of the dataframe with missing values is: {df_missing.shape}\")"
   ]
  },
  {
   "cell_type": "code",
   "execution_count": 12,
   "metadata": {},
   "outputs": [],
   "source": [
    "# Training and evaluating the model for the target variables 'slope', 'thal', and 'ca'.\n",
    "def predict_and_evaluate(target_variable, drop_columns):\n",
    "    # Drop specified columns from the DataFrame\n",
    "    X = df_clean.drop(drop_columns, axis=1)\n",
    "    \n",
    "    # Select target variable(s)\n",
    "    y = df_clean[target_variable]\n",
    "\n",
    "    # Initialize LabelEncoder\n",
    "    le = LabelEncoder()\n",
    "    \n",
    "    #le = OneHotEncoder()\n",
    "    for col in X.columns:\n",
    "        # If column is of object type\n",
    "        if X[col].dtype == 'object':\n",
    "            # Encode the column\n",
    "            X[col] = le.fit_transform(X[col])\n",
    "    \n",
    "    # Split the data into training and testing sets\n",
    "    X_train, X_test, y_train, y_test = train_test_split(X, y, test_size=0.2, random_state=42)\n",
    "\n",
    "    # Initialize RandomForestClassifier\n",
    "    model = RandomForestClassifier(n_estimators=10, random_state=42)\n",
    "    \n",
    "    # Train the model\n",
    "    model.fit(X_train, y_train)\n",
    "\n",
    "    # Make predictions on the test set\n",
    "    y_pred = model.predict(X_test)\n",
    "\n",
    "    # Print heading\n",
    "    print(f'Model performance for {target_variable}'.upper())\n",
    "    \n",
    "    # Print accuracy score\n",
    "    print(f\"The accuracy of the model is: {round(accuracy_score(y_test, y_pred),2)}\")\n",
    "\n",
    "    # Print classification report\n",
    "    print(f\"Classification report:\\n {classification_report(y_test, y_pred)}\")\n",
    "\n",
    "    # Return the trained model\n",
    "    return model"
   ]
  },
  {
   "cell_type": "code",
   "execution_count": 13,
   "metadata": {},
   "outputs": [],
   "source": [
    "# create a new dataframe and drop the target variables\n",
    "df_encoded_pred = df_missing.drop(['slope', 'ca', 'thal'], axis=1)"
   ]
  },
  {
   "cell_type": "code",
   "execution_count": 14,
   "metadata": {},
   "outputs": [
    {
     "name": "stdout",
     "output_type": "stream",
     "text": [
      "MODEL PERFORMANCE FOR SLOPE\n",
      "The accuracy of the model is: 0.72\n",
      "Classification report:\n",
      "               precision    recall  f1-score   support\n",
      "\n",
      " downsloping       0.00      0.00      0.00         3\n",
      "        flat       0.70      0.76      0.73        25\n",
      "   upsloping       0.75      0.75      0.75        32\n",
      "\n",
      "    accuracy                           0.72        60\n",
      "   macro avg       0.48      0.50      0.49        60\n",
      "weighted avg       0.69      0.72      0.70        60\n",
      "\n"
     ]
    }
   ],
   "source": [
    "# Train and evaluate a model for predicting the 'slope' feature, excluding 'slope', 'ca', and 'thal' from the input features.\n",
    "rf_model_slope  = predict_and_evaluate('slope', ['slope', 'ca', 'thal'])"
   ]
  },
  {
   "cell_type": "code",
   "execution_count": 15,
   "metadata": {},
   "outputs": [
    {
     "name": "stdout",
     "output_type": "stream",
     "text": [
      "MODEL PERFORMANCE FOR CA\n",
      "The accuracy of the model is: 0.72\n",
      "Classification report:\n",
      "               precision    recall  f1-score   support\n",
      "\n",
      "         0.0       0.76      0.97      0.86        40\n",
      "         1.0       0.67      0.15      0.25        13\n",
      "         2.0       0.33      0.40      0.36         5\n",
      "         3.0       0.00      0.00      0.00         2\n",
      "\n",
      "    accuracy                           0.72        60\n",
      "   macro avg       0.44      0.38      0.37        60\n",
      "weighted avg       0.68      0.72      0.66        60\n",
      "\n"
     ]
    }
   ],
   "source": [
    "# Train and evaluate a model for predicting the 'ca' feature, excluding 'ca', and 'thal' from the input features.\n",
    "rf_model_ca = predict_and_evaluate('ca', [ 'ca', 'thal'])"
   ]
  },
  {
   "cell_type": "code",
   "execution_count": 16,
   "metadata": {},
   "outputs": [
    {
     "name": "stdout",
     "output_type": "stream",
     "text": [
      "MODEL PERFORMANCE FOR THAL\n",
      "The accuracy of the model is: 0.7\n",
      "Classification report:\n",
      "                    precision    recall  f1-score   support\n",
      "\n",
      "     fixed defect       0.00      0.00      0.00         4\n",
      "           normal       0.67      0.94      0.78        31\n",
      "reversable defect       0.76      0.52      0.62        25\n",
      "\n",
      "         accuracy                           0.70        60\n",
      "        macro avg       0.48      0.49      0.47        60\n",
      "     weighted avg       0.67      0.70      0.66        60\n",
      "\n"
     ]
    }
   ],
   "source": [
    "# # Train and evaluate a model for predicting the 'thal' feature.\n",
    "rf_model_thal = predict_and_evaluate('thal', ['thal'])"
   ]
  },
  {
   "cell_type": "code",
   "execution_count": 17,
   "metadata": {},
   "outputs": [],
   "source": [
    "def encode_and_predict(df, target_variable, model):\n",
    "\n",
    "    # Initialize label encoder\n",
    "    le = LabelEncoder()\n",
    "\n",
    "    # Loop through each column in the DataFrame\n",
    "    for col in df.columns:\n",
    "        # Check if the column is of type 'object' (categorical)\n",
    "        if df[col].dtype == 'object':\n",
    "            # encode the categorical data to integers\n",
    "            df[col] = le.fit_transform(df[col])\n",
    "    # Use the model to apply predictions and assign the predicted values to the target variable\n",
    "    df[target_variable] = model.predict(df)"
   ]
  },
  {
   "cell_type": "code",
   "execution_count": 18,
   "metadata": {},
   "outputs": [],
   "source": [
    "# Encode categorical features and predict the 'slope' column in df_encoded_pred\n",
    "encode_and_predict(df_encoded_pred, 'slope', rf_model_slope)\n",
    "# Update the 'slope' column in df_missing with the predicted values\n",
    "df_missing.loc[:,'slope'] = df_encoded_pred['slope']\n",
    "\n",
    "df_encoded_pred = df_missing.drop(['ca', 'thal'], axis=1)\n",
    "# Encode categorical features and predict the 'ca' column in df_encoded_pred\n",
    "encode_and_predict(df_encoded_pred, 'ca', rf_model_ca)\n",
    "# Update the 'ca' column in df_missing with the predicted values\n",
    "df_missing.loc[:, 'ca'] = df_encoded_pred['ca']\n",
    "\n",
    "df_encoded_pred = df_missing.drop(['thal'], axis=1)\n",
    "# Encode categorical features and predict the 'thal' column in df_encoded_pred\n",
    "encode_and_predict(df_encoded_pred, 'thal', rf_model_thal)\n",
    "# Update the 'thal' column in df_missing with the predicted values\n",
    "df_missing.loc[:, 'thal'] = df_encoded_pred['thal']"
   ]
  },
  {
   "cell_type": "code",
   "execution_count": 19,
   "metadata": {},
   "outputs": [
    {
     "name": "stdout",
     "output_type": "stream",
     "text": [
      "DATASET SHAPE INSPECT\n",
      "The shape of the dataset is: 920 rows and 16 columns.\n"
     ]
    }
   ],
   "source": [
    "# merge df_clean and df_missing \n",
    "df = pd.concat([df_clean, df_missing])\n",
    "\n",
    "print('Dataset shape inspect'.upper())\n",
    "print(f\"The shape of the dataset is: {df.shape[0]} rows and {df.shape[1]} columns.\")"
   ]
  },
  {
   "cell_type": "code",
   "execution_count": 20,
   "metadata": {},
   "outputs": [
    {
     "name": "stdout",
     "output_type": "stream",
     "text": [
      "MISSING VALUES INSPECT\n",
      "There are no missing values in the dataset.\n"
     ]
    }
   ],
   "source": [
    "print('Missing values inspect'.upper())\n",
    "if df.isnull().sum().sum() == 0:\n",
    "    print(\"There are no missing values in the dataset.\")\n",
    "else:\n",
    "    print(\"There are missing values in the dataset.\")"
   ]
  },
  {
   "cell_type": "code",
   "execution_count": 21,
   "metadata": {},
   "outputs": [
    {
     "data": {
      "image/png": "[encoded data removed]",
      "text/plain": [
       "<Figure size 1600x600 with 1 Axes>"
      ]
     },
     "metadata": {},
     "output_type": "display_data"
    }
   ],
   "source": [
    "# create heatmap to check missing values after imputation\n",
    "plt.figure(figsize=(16, 6))\n",
    "sns.heatmap(df.isnull(), cbar=False, yticklabels=False, cmap='RdPu')\n",
    "plt.title('Missing values after imputation', size=23)\n",
    "plt.show()"
   ]
  },
  {
   "cell_type": "code",
   "execution_count": 22,
   "metadata": {},
   "outputs": [],
   "source": [
    "from sklearn.preprocessing import MinMaxScaler\n",
    "# min max scaling to scale the thalch ca chol and tresbps columns\n",
    "def scale_columns(df, columns):\n",
    " \n",
    "    from sklearn.preprocessing import MinMaxScaler\n",
    "    scaler = MinMaxScaler()\n",
    "    \n",
    "    for column in columns:\n",
    "        df[column] = scaler.fit_transform(df[[column]])\n",
    "    \n",
    "    return df\n",
    "\n",
    "df = scale_columns(df, ['thalch', 'chol', 'trestbps', 'ca'])"
   ]
  },
  {
   "cell_type": "code",
   "execution_count": 23,
   "metadata": {},
   "outputs": [],
   "source": [
    "# Plotting the histogram and boxplot to check the data distribution for the numerical columns \n",
    "def plot_histogram_and_boxplot(df, numerical_cols, cyan_palette=[\"#9468F8\"]):\n",
    "    # Set to \"dark\" for a black background\n",
    "    #sns.set(style=\"dark\", palette=\"deep\")\n",
    "    shade = \"#0000ff\"\n",
    "    # Set the figure size to accommodate the subplots\n",
    "    plt.figure(figsize=(15, len(numerical_cols) * 5))\n",
    "\n",
    "    # Loop through each numerical column and create a row with a histogram and a boxplot\n",
    "    for i, col in enumerate(numerical_cols):\n",
    "        # Histogram (left)\n",
    "        ax1 = plt.subplot(len(numerical_cols), 2, 2*i + 1)\n",
    "        sns.histplot(df[col], kde=True, bins=30, color='blue')\n",
    "        plt.title(f'Histogram of {col}')\n",
    "        plt.xlabel(col)\n",
    "        plt.ylabel('Count')\n",
    "        ax1.set_facecolor('#ffffff')\n",
    "\n",
    "        # Boxplot (right)\n",
    "        ax2 = plt.subplot(len(numerical_cols), 2, 2*i + 2)\n",
    "        sns.boxplot(x=df[col], color=cyan_palette[0], linewidth=1.5,medianprops={'color': 'white', 'linewidth': 2},\n",
    "                    flierprops=dict(markerfacecolor=shade, marker='o', markeredgecolor=shade, markersize=5),\n",
    "                    whiskerprops=dict(color=shade, linewidth=2.0),\n",
    "                    capprops=dict(color=shade, linewidth=2.0),\n",
    "                    boxprops=dict(edgecolor=shade, linewidth=2.0)),\n",
    "                    \n",
    "        plt.title(f'Boxplot of {col}')\n",
    "        ax2.set_facecolor('#ffffff')\n",
    "\n",
    "    # Adjust layout for better readability and display the plot\n",
    "    plt.tight_layout()\n",
    "    plt.show()"
   ]
  },
  {
   "cell_type": "code",
   "execution_count": 24,
   "metadata": {},
   "outputs": [
    {
     "data": {
      "image/png": "[encoded data removed]",
      "text/plain": [
       "<Figure size 1500x500 with 2 Axes>"
      ]
     },
     "metadata": {},
     "output_type": "display_data"
    }
   ],
   "source": [
    "plot_histogram_and_boxplot(df, ['oldpeak'])\n"
   ]
  },
  {
   "cell_type": "code",
   "execution_count": 25,
   "metadata": {},
   "outputs": [
    {
     "data": {
      "image/png": "[encoded data removed]",
      "text/plain": [
       "<Figure size 800x400 with 1 Axes>"
      ]
     },
     "metadata": {},
     "output_type": "display_data"
    }
   ],
   "source": [
    "# Define bin edges according to the quartiles.\n",
    "bin_edges = [-2.6, 0.0, 0.5, 1.5, 6.2]\n",
    "shades = ['#9468F8', '#8B30E3', '#7039FF', '#341F9B', '#9556EB']\n",
    "# Define labels for the bins.\n",
    "bin_labels = ['No Depression', 'Mild Depression', 'Moderate Depression', 'Severe Depression']\n",
    "\n",
    "# Bin the 'oldpeak' data.\n",
    "df['oldpeak_binned'] = pd.cut(df['oldpeak'], bins=bin_edges, labels=bin_labels, include_lowest=True)\n",
    "oldpeak = df['oldpeak_binned']\n",
    "df.drop('oldpeak_binned', axis=1, inplace=True)\n",
    "\n",
    "\n",
    "# Plot the distribution of the binned data.\n",
    "plt.figure(figsize=(8, 4))\n",
    "sns.countplot(x=oldpeak, data=df, palette=shades)\n",
    "\n",
    "\n",
    "plt.title('Distribution of Binned \"oldpeak\" Values')\n",
    "plt.xlabel('Binned \"oldpeak\" Categories')\n",
    "plt.ylabel('Count')\n",
    "\n",
    "plt.show()"
   ]
  },
  {
   "cell_type": "code",
   "execution_count": null,
   "metadata": {},
   "outputs": [],
   "source": []
  },
  {
   "cell_type": "code",
   "execution_count": 26,
   "metadata": {},
   "outputs": [],
   "source": [
    "# custom class for outlier detection\n",
    "from sklearn.base import BaseEstimator, TransformerMixin\n",
    "class OutlierDetector(BaseEstimator, TransformerMixin):\n",
    "    def __init__(self, factor=1.5):\n",
    "        self.factor = factor\n",
    "\n",
    "    def fit(self, X, y=None):\n",
    "        # calculate the bounds for each column\n",
    "        self.bounds_ = {}\n",
    "        for column in X.columns:\n",
    "            Q1 = X[column].quantile(0.25)\n",
    "            Q3 = X[column].quantile(0.75)\n",
    "            IQR = Q3 - Q1\n",
    "            self.bounds_[column] = {\n",
    "                'lower': Q1 - self.factor * IQR,\n",
    "                'upper': Q3 + self.factor * IQR\n",
    "            }\n",
    "        return self\n",
    "\n",
    "    def transform(self, X):\n",
    "        # we flag the outliers in each column\n",
    "        X_outliers = pd.DataFrame(index=X.index)\n",
    "        for column in X.columns:\n",
    "            lower_bound = self.bounds_[column]['lower']\n",
    "            upper_bound = self.bounds_[column]['upper']\n",
    "            X_outliers[column] = ~X[column].between(lower_bound, upper_bound)\n",
    "        return X_outliers"
   ]
  },
  {
   "cell_type": "code",
   "execution_count": 27,
   "metadata": {},
   "outputs": [
    {
     "data": {
      "text/plain": [
       "num\n",
       "0    411\n",
       "1    265\n",
       "2    109\n",
       "3    107\n",
       "4     28\n",
       "Name: count, dtype: int64"
      ]
     },
     "execution_count": 27,
     "metadata": {},
     "output_type": "execute_result"
    }
   ],
   "source": [
    "# Get value count for the target variable\n",
    "df['num'].value_counts()"
   ]
  },
  {
   "cell_type": "code",
   "execution_count": 28,
   "metadata": {},
   "outputs": [],
   "source": [
    "# Create a new column 'num_binary' in the dataframe 'df'. \n",
    "# If 'num' is greater than or equal to 2, 'num_binary' is 1, otherwise 0.\n",
    "df['num_binary'] = df['num'].apply(lambda x:1 if x >= 2 else 0)\n",
    "\n",
    "# Replace the 'num' column with the 'num_binary' column\n",
    "df['num'] = df['num_binary']\n",
    "\n",
    "# Drop the 'num_binary' column as it is no longer needed\n",
    "df.drop('num_binary', axis=1, inplace=True)"
   ]
  },
  {
   "cell_type": "code",
   "execution_count": 29,
   "metadata": {},
   "outputs": [
    {
     "data": {
      "text/plain": [
       "num\n",
       "0    676\n",
       "1    244\n",
       "Name: count, dtype: int64"
      ]
     },
     "execution_count": 29,
     "metadata": {},
     "output_type": "execute_result"
    }
   ],
   "source": [
    "df['num'].value_counts()\n"
   ]
  },
  {
   "cell_type": "code",
   "execution_count": 30,
   "metadata": {},
   "outputs": [
    {
     "name": "stdout",
     "output_type": "stream",
     "text": [
      "<class 'pandas.core.frame.DataFrame'>\n",
      "Index: 920 entries, 0 to 919\n",
      "Data columns (total 16 columns):\n",
      " #   Column    Non-Null Count  Dtype  \n",
      "---  ------    --------------  -----  \n",
      " 0   id        920 non-null    int64  \n",
      " 1   age       920 non-null    int64  \n",
      " 2   sex       920 non-null    object \n",
      " 3   dataset   920 non-null    object \n",
      " 4   cp        920 non-null    object \n",
      " 5   trestbps  920 non-null    float64\n",
      " 6   chol      920 non-null    float64\n",
      " 7   fbs       920 non-null    object \n",
      " 8   restecg   920 non-null    object \n",
      " 9   thalch    920 non-null    float64\n",
      " 10  exang     920 non-null    object \n",
      " 11  oldpeak   920 non-null    float64\n",
      " 12  slope     920 non-null    object \n",
      " 13  ca        920 non-null    float64\n",
      " 14  thal      920 non-null    object \n",
      " 15  num       920 non-null    int64  \n",
      "dtypes: float64(5), int64(3), object(8)\n",
      "memory usage: 122.2+ KB\n"
     ]
    }
   ],
   "source": [
    "df.info()"
   ]
  },
  {
   "cell_type": "code",
   "execution_count": 31,
   "metadata": {},
   "outputs": [],
   "source": [
    "models = {\n",
    "'Random Forest Classifier': {\n",
    "    'ID': 'RandomForestClassifier',\n",
    "    'model': RandomForestClassifier(),\n",
    "    'params': {\n",
    "        'model__n_estimators': [10, 50],\n",
    "        'model__max_depth': [None, 5],\n",
    "        'model__min_samples_leaf': [1, 2],\n",
    "    },\n",
    "},\n",
    "  'XGBoost Classifier': {\n",
    "    'ID': 'XGBClassifier',\n",
    "    'model': XGBClassifier(),\n",
    "    'params': {\n",
    "        'model__max_depth': [3, 4],\n",
    "        'model__learning_rate': [0.1, 0.2],\n",
    "        'model__n_estimators': [100],\n",
    "        'model__gamma': [0, 0.1],\n",
    "        'model__reg_alpha': [0]\n",
    "    },\n",
    "  },\n",
    "\n",
    "    'LGBM Classifier': {\n",
    "        'ID': 'LGBMClassifier',\n",
    "        'model': LGBMClassifier(),\n",
    "        'params': {\n",
    "            'model__n_estimators': [10, 100],\n",
    "            'model__max_depth': [1, 2, 3],\n",
    "            'model__learning_rate': [0.1, 0.2, 0.3],\n",
    "            'model__verbose': [-1]\n",
    "        }\n",
    "    },\n",
    "\n",
    "\n",
    "}"
   ]
  },
  {
   "cell_type": "code",
   "execution_count": 32,
   "metadata": {},
   "outputs": [],
   "source": [
    "def calculate_error_ratio(df, target_column, feature_column, test_size=0.2, random_state=42, stratify=None ):\n",
    "\n",
    "    # Define features and target\n",
    "    X = df.drop([target_column], axis=1)  # Features\n",
    "    y = df[target_column]  # Target\n",
    "\n",
    "    # Split the data into training and test sets\n",
    "    X_train, X_test, y_train, y_test = train_test_split(X, y, stratify=stratify, test_size=test_size, random_state=random_state)\n",
    "\n",
    "    # Calculate the percentage representation of feature_column in training and test sets\n",
    "    train_percentages = X_train[feature_column].value_counts(normalize=True)*100\n",
    "    test_percentages = X_test[feature_column].value_counts(normalize=True)*100\n",
    "\n",
    "    # Calculate the error ratio\n",
    "    error_ratio = abs(train_percentages - test_percentages)\n",
    "\n",
    "    # Create a dataframe to compare the percentages\n",
    "    compare_percentages = pd.DataFrame({             \n",
    "            \"random_train %\": train_percentages,\n",
    "            \"random_test %\": test_percentages,\n",
    "            \"error_ratio %\": error_ratio\n",
    "            })\n",
    "\n",
    "    # Print the representation of feature_column value in training and test sets before stratified sampling\n",
    "    if stratify is None:\n",
    "        print(f'Representation of {feature_column} value in x_train and x_test before stratified Sampling'.upper())\n",
    "    else:\n",
    "        print(f'Representation of {feature_column} value in x_train and x_test after stratified Sampling'.upper())\n",
    "    compare_error_df = round(compare_percentages,2)\n",
    "    return  X_train, X_test, y_train, y_test, compare_error_df"
   ]
  },
  {
   "cell_type": "code",
   "execution_count": 33,
   "metadata": {},
   "outputs": [
    {
     "name": "stdout",
     "output_type": "stream",
     "text": [
      "REPRESENTATION OF CA VALUE IN X_TRAIN AND X_TEST BEFORE STRATIFIED SAMPLING\n"
     ]
    },
    {
     "data": {
      "text/html": [
       "<div>\n",
       "<style scoped>\n",
       "    .dataframe tbody tr th:only-of-type {\n",
       "        vertical-align: middle;\n",
       "    }\n",
       "\n",
       "    .dataframe tbody tr th {\n",
       "        vertical-align: top;\n",
       "    }\n",
       "\n",
       "    .dataframe thead th {\n",
       "        text-align: right;\n",
       "    }\n",
       "</style>\n",
       "<table border=\"1\" class=\"dataframe\">\n",
       "  <thead>\n",
       "    <tr style=\"text-align: right;\">\n",
       "      <th></th>\n",
       "      <th>random_train %</th>\n",
       "      <th>random_test %</th>\n",
       "      <th>error_ratio %</th>\n",
       "    </tr>\n",
       "    <tr>\n",
       "      <th>ca</th>\n",
       "      <th></th>\n",
       "      <th></th>\n",
       "      <th></th>\n",
       "    </tr>\n",
       "  </thead>\n",
       "  <tbody>\n",
       "    <tr>\n",
       "      <th>0.000000</th>\n",
       "      <td>76.09</td>\n",
       "      <td>77.17</td>\n",
       "      <td>1.09</td>\n",
       "    </tr>\n",
       "    <tr>\n",
       "      <th>0.333333</th>\n",
       "      <td>13.72</td>\n",
       "      <td>13.04</td>\n",
       "      <td>0.68</td>\n",
       "    </tr>\n",
       "    <tr>\n",
       "      <th>0.666667</th>\n",
       "      <td>7.47</td>\n",
       "      <td>8.70</td>\n",
       "      <td>1.22</td>\n",
       "    </tr>\n",
       "    <tr>\n",
       "      <th>1.000000</th>\n",
       "      <td>2.72</td>\n",
       "      <td>1.09</td>\n",
       "      <td>1.63</td>\n",
       "    </tr>\n",
       "  </tbody>\n",
       "</table>\n",
       "</div>"
      ],
      "text/plain": [
       "          random_train %  random_test %  error_ratio %\n",
       "ca                                                    \n",
       "0.000000           76.09          77.17           1.09\n",
       "0.333333           13.72          13.04           0.68\n",
       "0.666667            7.47           8.70           1.22\n",
       "1.000000            2.72           1.09           1.63"
      ]
     },
     "execution_count": 33,
     "metadata": {},
     "output_type": "execute_result"
    }
   ],
   "source": [
    "X_train, X_test, y_train, y_test, compare_error_df = calculate_error_ratio(df, 'num', 'ca')\n",
    "compare_error_df"
   ]
  },
  {
   "cell_type": "code",
   "execution_count": 34,
   "metadata": {},
   "outputs": [],
   "source": [
    "%%time\n",
    "from sklearn.feature_selection import SelectKBest, f_classif, chi2, mutual_info_classif\n",
    "from sklearn.model_selection import train_test_split, cross_val_score\n",
    "\n",
    "# # Define a pipeline for numerical features with a QuantileTransformer\n",
    "# numerical_transformer  = Pipeline(steps=[\n",
    "#   # Apply QuantileTransformer to transform numerical features to a normal distribution\n",
    "#   #('quantile', QuantileTransformer(random_state=42, output_distribution='normal', n_quantiles=476)),\n",
    "# ])\n",
    "\n",
    "# Define a pipeline for numerical features with a QuantileTransformer\n",
    "numerical_transformer = Pipeline(steps=[\n",
    "    ('quantile', QuantileTransformer(random_state=42, output_distribution='normal', n_quantiles=476)),\n",
    "])\n",
    "\n",
    "# Define a ColumnTransformer to apply different transformations to different columns\n",
    "preprocessor = ColumnTransformer(\n",
    "  transformers=[\n",
    "    # Apply numerical_transformer pipeline to numerical columns\n",
    "    ('num', numerical_transformer, numerical_cols),\n",
    "    # Detect and handle outliers in numerical columns\n",
    "    ('outliers', OutlierDetector(factor=1.5), numerical_cols),\n",
    "    # Apply OneHotEncoder to categorical columns\n",
    "    ('cat', OneHotEncoder(), categorical_cols)\n",
    "  ]\n",
    ")\n",
    "\n",
    "# Initialize a list to store model performance metrics\n",
    "model_scores = []\n",
    "# Initialize a variable to store the best accuracy found\n",
    "best_accuracy = 0\n",
    "# Initialize a variable to store the best estimator\n",
    "best_estimator = None\n",
    "# Dictionary to store cross-validation results\n",
    "cv_res = {}\n",
    "# Placeholder for numerical columns list\n",
    "numerical_cols\n",
    "# Placeholder for the best features selected by SelectKBest\n",
    "selected_k_best = None\n",
    "\n",
    "# Iterate over the models dictionary to train and evaluate each model\n",
    "for name, model in models.items():\n",
    "  # Define feature selection step using mutual information criterion\n",
    "  feature_selection = SelectKBest(mutual_info_classif, k=10)\n",
    "  # Define the pipeline with preprocessing, feature selection, and the model\n",
    "  pipeline = Pipeline(steps=[\n",
    "    ('preprocessor', preprocessor),\n",
    "    ('feature_selection', feature_selection),\n",
    "    ('model', model['model'])\n",
    "  ])\n",
    "\n",
    "  # Combine model-specific parameters with feature selection parameters\n",
    "  full_params = model['params']\n",
    "  full_params.update({\n",
    "      # Define grid search options for 'k' in feature selection\n",
    "      'feature_selection__k': [3, 5, 8, 'all']  \n",
    "    })\n",
    "\n",
    "  # Initialize GridSearchCV with the current model's pipeline and parameters\n",
    "  grid = GridSearchCV(pipeline, \n",
    "    param_grid=full_params,\n",
    "    cv=5, verbose=0, n_jobs=-1)\n",
    "\n",
    "  # Fit GridSearchCV to training data\n",
    "  grid.fit(X_train, y_train)\n",
    "\n",
    "  # Retrieve the best estimator from the grid search\n",
    "  best_model = grid.best_estimator_\n",
    "\n",
    "  # Predict on the test set using the best estimator\n",
    "  y_pred = best_model.predict(X_test)\n",
    "\n",
    "  # Calculate accuracy of the predictions\n",
    "  accuracy = accuracy_score(y_test, y_pred)\n",
    "\n",
    "  # Store performance metrics for the current model\n",
    "  model_scores.append({\n",
    "        'Model': name,\n",
    "        'Accuracy': accuracy,\n",
    "        'Precision': precision_score(y_test, y_pred, average='weighted'),\n",
    "        'Recall': recall_score(y_test, y_pred, average='weighted'),\n",
    "        'F1 Score': f1_score(y_test, y_pred, average='weighted')\n",
    "    })\n",
    "  \n",
    "  # Update best_accuracy and best_estimator if current model is better\n",
    "  if accuracy > best_accuracy:  \n",
    "      best_accuracy = accuracy\n",
    "      best_estimator = grid.best_estimator_\n",
    "      # Store cross-validation results for the best model\n",
    "      cv_res[name] = grid.cv_results_\n",
    "\n",
    "# Sort the performance metrics of models in descending order of accuracy\n",
    "sorted_models = sorted(model_scores, key=lambda x: x['Accuracy'], reverse=True)\n",
    "# Convert sorted model performances into a DataFrame for display\n",
    "metrics = pd.DataFrame(sorted_models)\n",
    "\n",
    "# Identify the best performing model based on accuracy\n",
    "best_clf_model = max(sorted_models, key=lambda x: x['Accuracy'])\n",
    "\n"
   ]
  },
  {
   "cell_type": "code",
   "execution_count": null,
   "metadata": {},
   "outputs": [],
   "source": [
    "# Display classification models' performance metrics\n",
    "print(\"Classification Models Performance\")\n",
    "metrics.round(2)"
   ]
  },
  {
   "cell_type": "code",
   "execution_count": null,
   "metadata": {},
   "outputs": [],
   "source": [
    "# Identify the best performing model based on accuracy\n",
    "best_clf_model = max(sorted_models, key=lambda x: x['Accuracy'])\n",
    "\n",
    "# Print the classification report of the best performing model\n",
    "print(\"Classification Report of the Best Performing Ensemble Model:\")\n",
    "print(classification_report(y_test, best_estimator.predict(X_test)))"
   ]
  },
  {
   "cell_type": "code",
   "execution_count": null,
   "metadata": {},
   "outputs": [],
   "source": []
  },
  {
   "cell_type": "markdown",
   "metadata": {},
   "source": [
    "## Neural Network Impelemntation"
   ]
  },
  {
   "cell_type": "code",
   "execution_count": null,
   "metadata": {},
   "outputs": [],
   "source": []
  },
  {
   "cell_type": "code",
   "execution_count": null,
   "metadata": {},
   "outputs": [],
   "source": [
    "import pandas as pd\n",
    "from sklearn.model_selection import train_test_split\n",
    "from sklearn.preprocessing import StandardScaler, OneHotEncoder\n",
    "from sklearn.compose import ColumnTransformer\n",
    "from sklearn.pipeline import Pipeline\n",
    "from sklearn.neural_network import MLPClassifier\n",
    "from sklearn.metrics import classification_report\n"
   ]
  },
  {
   "cell_type": "code",
   "execution_count": null,
   "metadata": {},
   "outputs": [],
   "source": [
    "df.info()"
   ]
  },
  {
   "cell_type": "code",
   "execution_count": null,
   "metadata": {},
   "outputs": [],
   "source": [
    "df"
   ]
  },
  {
   "cell_type": "code",
   "execution_count": null,
   "metadata": {},
   "outputs": [],
   "source": [
    "# Separate features and target variable\n",
    "X = df.drop(columns=['num'])  # Features\n",
    "y = df['num']  # Target variable\n",
    "\n",
    "# Split data into train and test sets\n",
    "X_train, X_test, y_train, y_test = train_test_split(X, y, test_size=0.2, random_state=42)\n",
    "\n",
    "# Define preprocessing steps\n",
    "# For simplicity, let's assume 'sex', 'dataset', 'cp', 'fbs', 'restecg', 'exang', 'slope', and 'thal' are categorical\n",
    "categorical_cols = ['sex', 'dataset', 'cp', 'fbs', 'restecg', 'exang', 'slope', 'thal']\n",
    "numeric_cols = X.columns.drop(categorical_cols)\n",
    "\n",
    "# Preprocess numerical and categorical variables separately\n",
    "numeric_transformer = StandardScaler()\n",
    "categorical_transformer = OneHotEncoder()\n",
    "\n",
    "preprocessor = ColumnTransformer(\n",
    "    transformers=[\n",
    "        ('num', numeric_transformer, numeric_cols),\n",
    "        ('cat', categorical_transformer, categorical_cols)])\n",
    "\n",
    "# Define the neural network model\n",
    "pipeline = Pipeline(steps=[('preprocessor', preprocessor),\n",
    "                           ('classifier', MLPClassifier(max_iter=500))])\n",
    "\n",
    "# Define hyperparameters grid for tuning\n",
    "# param_grid = {\n",
    "#     'classifier__hidden_layer_sizes': [(100,), (100, 50), (100, 100), (50, 50)],\n",
    "#     'classifier__activation': ['relu', 'logistic'],\n",
    "#     'classifier__solver': ['adam', 'sgd'],\n",
    "# }\n",
    "\n",
    "\n",
    "\n",
    "param_grid = {\n",
    "    'classifier__hidden_layer_sizes': [(100,), (100, 50), (100, 100), (50, 50)],\n",
    "    'classifier__activation': ['relu', 'logistic'],\n",
    "    'classifier__solver': ['adam', 'sgd'],\n",
    "    'classifier__alpha': [0.0001, 0.001, 0.01],  \n",
    "    'classifier__learning_rate': ['constant', 'adaptive'],  \n",
    "    'classifier__momentum': [0.9, 0.95, 0.99],  \n",
    "    'classifier__batch_size': [32, 64, 128], \n",
    "    'classifier__shuffle': [True, False],  \n",
    "    'classifier__early_stopping': [True, False],  \n",
    "    'classifier__validation_fraction': [0.1, 0.2, 0.3],  \n",
    "    'classifier__beta_1': [0.9, 0.95, 0.99],  \n",
    "}\n",
    "\n",
    "\n",
    "# Use GridSearchCV for hyperparameter tuning\n",
    "grid_search = GridSearchCV(pipeline, param_grid, cv=5, n_jobs=-1, verbose=1)\n",
    "\n",
    "# Train the model with hyperparameter tuning\n",
    "grid_search.fit(X_train, y_train)\n",
    "\n",
    "# Best parameters and best score\n",
    "print(\"Best parameters found:\", grid_search.best_params_)\n",
    "print(\"Best score:\", grid_search.best_score_)\n",
    "\n",
    "# Predictions on the test set using the best model\n",
    "y_pred = grid_search.predict(X_test)\n",
    "\n",
    "# Evaluate the best model\n",
    "print(classification_report(y_test, y_pred))"
   ]
  },
  {
   "cell_type": "code",
   "execution_count": null,
   "metadata": {},
   "outputs": [],
   "source": [
    "\n",
    "# Best parameters and best score\n",
    "print(\"Best parameters found for Neural Network Approach:\", grid_search.best_params_)\n",
    "print(\"Best score:\", grid_search.best_score_)\n",
    "\n",
    "# Predictions on the test set using the best model\n",
    "y_pred = grid_search.predict(X_test)\n",
    "\n",
    "# Evaluate the best model\n",
    "print(classification_report(y_test, y_pred))"
   ]
  },
  {
   "cell_type": "code",
   "execution_count": null,
   "metadata": {},
   "outputs": [],
   "source": []
  },
  {
   "cell_type": "code",
   "execution_count": null,
   "metadata": {},
   "outputs": [],
   "source": []
  },
  {
   "cell_type": "markdown",
   "metadata": {},
   "source": []
  }
 ],
 "metadata": {
  "kernelspec": {
   "display_name": "mlpy311",
   "language": "python",
   "name": "python3"
  },
  "language_info": {
   "codemirror_mode": {
    "name": "ipython",
    "version": 3
   },
   "file_extension": ".py",
   "mimetype": "text/x-python",
   "name": "python",
   "nbconvert_exporter": "python",
   "pygments_lexer": "ipython3",
   "version": "3.11.3"
  }
 },
 "nbformat": 4,
 "nbformat_minor": 2
}
